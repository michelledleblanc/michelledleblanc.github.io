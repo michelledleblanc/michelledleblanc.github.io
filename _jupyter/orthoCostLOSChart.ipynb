{
 "cells": [
  {
   "cell_type": "markdown",
   "metadata": {},
   "source": [
    "# Panel chart - orthopedic procedures by cost and LOS"
   ]
  },
  {
   "cell_type": "code",
   "execution_count": 1,
   "metadata": {},
   "outputs": [
    {
     "data": {
      "text/html": [
       "<style>.container { width:75% !important; }</style>"
      ],
      "text/plain": [
       "<IPython.core.display.HTML object>"
      ]
     },
     "metadata": {},
     "output_type": "display_data"
    }
   ],
   "source": [
    "import pandas as pd\n",
    "import random\n",
    "import numpy as np\n",
    "import altair as alt"
   ]
  },
  {
   "cell_type": "markdown",
   "metadata": {},
   "source": [
    "### create dummy data"
   ]
  },
  {
   "cell_type": "code",
   "execution_count": 2,
   "metadata": {},
   "outputs": [],
   "source": [
    "random.seed(0)\n",
    "df = pd.DataFrame({'Procedure group': ['Knee replacement' for i in range(15)] + \\\n",
    "                                        ['Hip replacement' for i in range(15)] + \\\n",
    "                                        ['Cervical fusion' for i in range(15)] + \\\n",
    "                                        ['Lumbar fusion' for i in range(15)],\n",
    "                  'Physician':random.sample(range(1000, 2000), 60),\n",
    "                  'Cases':random.sample(range(5,100), 60),\n",
    "                  'Avg cost': random.sample(range(2500, 5000), 15) + \\\n",
    "                                random.sample(range(2000, 7000), 15) + \\\n",
    "                                random.sample(range(5000, 12000), 15) + \\\n",
    "                                random.sample(range(6000, 15000), 15),\n",
    "                  'LOS O/E':[random.uniform(0.5, 1.8) for i in range(60)]})\n",
    "df['LOS O/E'] = np.round(df['LOS O/E'],2)"
   ]
  },
  {
   "cell_type": "code",
   "execution_count": 3,
   "metadata": {},
   "outputs": [
    {
     "data": {
      "text/html": [
       "<div>\n",
       "<style scoped>\n",
       "    .dataframe tbody tr th:only-of-type {\n",
       "        vertical-align: middle;\n",
       "    }\n",
       "\n",
       "    .dataframe tbody tr th {\n",
       "        vertical-align: top;\n",
       "    }\n",
       "\n",
       "    .dataframe thead th {\n",
       "        text-align: right;\n",
       "    }\n",
       "</style>\n",
       "<table border=\"1\" class=\"dataframe\">\n",
       "  <thead>\n",
       "    <tr style=\"text-align: right;\">\n",
       "      <th></th>\n",
       "      <th>Procedure group</th>\n",
       "      <th>Physician</th>\n",
       "      <th>Cases</th>\n",
       "      <th>Avg cost</th>\n",
       "      <th>LOS O/E</th>\n",
       "      <th>Header</th>\n",
       "    </tr>\n",
       "  </thead>\n",
       "  <tbody>\n",
       "    <tr>\n",
       "      <th>56</th>\n",
       "      <td>Lumbar fusion</td>\n",
       "      <td>1989</td>\n",
       "      <td>21</td>\n",
       "      <td>6354</td>\n",
       "      <td>1.58</td>\n",
       "      <td>Lumbar fusion\\nn = 725</td>\n",
       "    </tr>\n",
       "    <tr>\n",
       "      <th>55</th>\n",
       "      <td>Lumbar fusion</td>\n",
       "      <td>1209</td>\n",
       "      <td>44</td>\n",
       "      <td>6596</td>\n",
       "      <td>1.47</td>\n",
       "      <td>Lumbar fusion\\nn = 725</td>\n",
       "    </tr>\n",
       "    <tr>\n",
       "      <th>37</th>\n",
       "      <td>Cervical fusion</td>\n",
       "      <td>1150</td>\n",
       "      <td>99</td>\n",
       "      <td>5824</td>\n",
       "      <td>1.01</td>\n",
       "      <td>Cervical fusion\\nn = 864</td>\n",
       "    </tr>\n",
       "    <tr>\n",
       "      <th>40</th>\n",
       "      <td>Cervical fusion</td>\n",
       "      <td>1747</td>\n",
       "      <td>72</td>\n",
       "      <td>10715</td>\n",
       "      <td>1.40</td>\n",
       "      <td>Cervical fusion\\nn = 864</td>\n",
       "    </tr>\n",
       "    <tr>\n",
       "      <th>38</th>\n",
       "      <td>Cervical fusion</td>\n",
       "      <td>1317</td>\n",
       "      <td>93</td>\n",
       "      <td>11415</td>\n",
       "      <td>1.35</td>\n",
       "      <td>Cervical fusion\\nn = 864</td>\n",
       "    </tr>\n",
       "  </tbody>\n",
       "</table>\n",
       "</div>"
      ],
      "text/plain": [
       "    Procedure group  Physician  Cases  Avg cost  LOS O/E  \\\n",
       "56    Lumbar fusion       1989     21      6354     1.58   \n",
       "55    Lumbar fusion       1209     44      6596     1.47   \n",
       "37  Cervical fusion       1150     99      5824     1.01   \n",
       "40  Cervical fusion       1747     72     10715     1.40   \n",
       "38  Cervical fusion       1317     93     11415     1.35   \n",
       "\n",
       "                      Header  \n",
       "56    Lumbar fusion\\nn = 725  \n",
       "55    Lumbar fusion\\nn = 725  \n",
       "37  Cervical fusion\\nn = 864  \n",
       "40  Cervical fusion\\nn = 864  \n",
       "38  Cervical fusion\\nn = 864  "
      ]
     },
     "execution_count": 3,
     "metadata": {},
     "output_type": "execute_result"
    }
   ],
   "source": [
    "totalsDf = df[['Procedure group','Cases']].groupby('Procedure group').sum().reset_index()\n",
    "nEquals = 'n = '\n",
    "totalsDf['Header'] = totalsDf['Procedure group'] + '\\n' + nEquals + totalsDf['Cases'].astype(str)\n",
    "\n",
    "charttDf = df.merge(totalsDf[['Procedure group','Header']], on='Procedure group',how='left')\n",
    "charttDf.sample(5)"
   ]
  },
  {
   "cell_type": "markdown",
   "metadata": {},
   "source": [
    "### Layer Altair charts"
   ]
  },
  {
   "cell_type": "code",
   "execution_count": 4,
   "metadata": {},
   "outputs": [
    {
     "data": {
      "text/html": [
       "\n",
       "<div id=\"altair-viz-40f64f63a673425c98618cf9d163b7c2\"></div>\n",
       "<script type=\"text/javascript\">\n",
       "  (function(spec, embedOpt){\n",
       "    let outputDiv = document.currentScript.previousElementSibling;\n",
       "    if (outputDiv.id !== \"altair-viz-40f64f63a673425c98618cf9d163b7c2\") {\n",
       "      outputDiv = document.getElementById(\"altair-viz-40f64f63a673425c98618cf9d163b7c2\");\n",
       "    }\n",
       "    const paths = {\n",
       "      \"vega\": \"https://cdn.jsdelivr.net/npm//vega@5?noext\",\n",
       "      \"vega-lib\": \"https://cdn.jsdelivr.net/npm//vega-lib?noext\",\n",
       "      \"vega-lite\": \"https://cdn.jsdelivr.net/npm//vega-lite@4.8.1?noext\",\n",
       "      \"vega-embed\": \"https://cdn.jsdelivr.net/npm//vega-embed@6?noext\",\n",
       "    };\n",
       "\n",
       "    function loadScript(lib) {\n",
       "      return new Promise(function(resolve, reject) {\n",
       "        var s = document.createElement('script');\n",
       "        s.src = paths[lib];\n",
       "        s.async = true;\n",
       "        s.onload = () => resolve(paths[lib]);\n",
       "        s.onerror = () => reject(`Error loading script: ${paths[lib]}`);\n",
       "        document.getElementsByTagName(\"head\")[0].appendChild(s);\n",
       "      });\n",
       "    }\n",
       "\n",
       "    function showError(err) {\n",
       "      outputDiv.innerHTML = `<div class=\"error\" style=\"color:red;\">${err}</div>`;\n",
       "      throw err;\n",
       "    }\n",
       "\n",
       "    function displayChart(vegaEmbed) {\n",
       "      vegaEmbed(outputDiv, spec, embedOpt)\n",
       "        .catch(err => showError(`Javascript Error: ${err.message}<br>This usually means there's a typo in your chart specification. See the javascript console for the full traceback.`));\n",
       "    }\n",
       "\n",
       "    if(typeof define === \"function\" && define.amd) {\n",
       "      requirejs.config({paths});\n",
       "      require([\"vega-embed\"], displayChart, err => showError(`Error loading script: ${err.message}`));\n",
       "    } else if (typeof vegaEmbed === \"function\") {\n",
       "      displayChart(vegaEmbed);\n",
       "    } else {\n",
       "      loadScript(\"vega\")\n",
       "        .then(() => loadScript(\"vega-lite\"))\n",
       "        .then(() => loadScript(\"vega-embed\"))\n",
       "        .catch(showError)\n",
       "        .then(() => displayChart(vegaEmbed));\n",
       "    }\n",
       "  })({\"config\": {\"view\": {\"continuousWidth\": 400, \"continuousHeight\": 300, \"strokeWidth\": 1}, \"axis\": {\"labelColor\": \"#6e6e6e\", \"labelFont\": \"Arial\", \"labelFontSize\": 12, \"titleColor\": \"#6e6e6e\", \"titleFont\": \"Arial\", \"titleFontSize\": 12}, \"header\": {\"labelColor\": \"#6e6e6e\", \"labelFont\": \"Arial\", \"labelFontSize\": 14, \"labelFontStyle\": \"bold\", \"labelPadding\": 12}, \"lineBreak\": \"\\n\", \"title\": {\"anchor\": \"start\", \"color\": \"#6e6e6e\", \"font\": \"Arial\", \"fontSize\": 16, \"offset\": 25}}, \"data\": {\"name\": \"data-8eea0cfe619115effb57bdb8753d4f9e\"}, \"facet\": {\"type\": \"nominal\", \"field\": \"Header\", \"sort\": [\"Knee replacement\", \"Hip replacement\", \"Cervical fusion\", \"Lumbar fusion\"], \"title\": null}, \"spec\": {\"layer\": [{\"layer\": [{\"mark\": {\"type\": \"rect\", \"color\": \"#696969\", \"opacity\": 0.05}, \"encoding\": {\"x\": {\"type\": \"quantitative\", \"aggregate\": \"min\", \"field\": \"Start1\", \"scale\": {\"clamp\": true, \"domain\": [0.5, 1.5], \"nice\": false}}, \"x2\": {\"aggregate\": \"min\", \"field\": \"Stop1\"}, \"y\": {\"value\": 0}, \"y2\": {\"value\": 550}}}, {\"mark\": {\"type\": \"rect\", \"color\": \"#696969\", \"opacity\": 0.1}, \"encoding\": {\"x\": {\"type\": \"quantitative\", \"aggregate\": \"min\", \"field\": \"Start2\", \"scale\": {\"clamp\": true, \"domain\": [0.5, 1.5], \"nice\": false}}, \"x2\": {\"aggregate\": \"min\", \"field\": \"Stop2\"}, \"y\": {\"value\": 0}, \"y2\": {\"value\": 550}}}, {\"mark\": {\"type\": \"rule\", \"stroke\": \"#ddd\", \"strokeWidth\": 1}, \"encoding\": {\"x\": {\"type\": \"quantitative\", \"field\": \"Start1\"}}}, {\"mark\": {\"type\": \"circle\", \"size\": 150, \"stroke\": \"#696969\", \"strokeWidth\": 0.5}, \"encoding\": {\"color\": {\"type\": \"quantitative\", \"field\": \"Cases\", \"legend\": null, \"scale\": {\"range\": [\"#A6DBD2\", \"#018c8a\"]}}, \"x\": {\"type\": \"quantitative\", \"axis\": {\"format\": \".2f\", \"grid\": false, \"labelAngle\": 0, \"labelExpr\": \"datum.label % 1.5 ? datum.label: '1.50+'\", \"tickSize\": 0, \"title\": \"LOS O/E\", \"values\": [0.5, 0.75, 1, 1.25, 1.5]}, \"field\": \"LOS O/E\", \"scale\": {\"clamp\": true, \"domain\": [0.5, 1.5], \"nice\": false}}, \"y\": {\"type\": \"quantitative\", \"axis\": {\"format\": \"$,.0f\", \"tickCount\": 4, \"title\": \"Average supply cost\"}, \"field\": \"Avg cost\"}}}]}], \"height\": 550, \"width\": 175}, \"resolve\": {\"scale\": {\"color\": \"independent\"}}, \"spacing\": 30, \"title\": \"Orthopedic physician performance by procedure group\", \"$schema\": \"https://vega.github.io/schema/vega-lite/v4.8.1.json\", \"datasets\": {\"data-8eea0cfe619115effb57bdb8753d4f9e\": [{\"Procedure group\": \"Knee replacement\", \"Physician\": 1864, \"Cases\": 71, \"Avg cost\": 3033, \"LOS O/E\": 1.12, \"Header\": \"Knee replacement\\nn = 734\", \"Start1\": 1, \"Stop1\": 1.25, \"Start2\": 1.25, \"Stop2\": 1.5}, {\"Procedure group\": \"Knee replacement\", \"Physician\": 1394, \"Cases\": 38, \"Avg cost\": 3112, \"LOS O/E\": 1.45, \"Header\": \"Knee replacement\\nn = 734\", \"Start1\": 1, \"Stop1\": 1.25, \"Start2\": 1.25, \"Stop2\": 1.5}, {\"Procedure group\": \"Knee replacement\", \"Physician\": 1776, \"Cases\": 12, \"Avg cost\": 2658, \"LOS O/E\": 0.58, \"Header\": \"Knee replacement\\nn = 734\", \"Start1\": 1, \"Stop1\": 1.25, \"Start2\": 1.25, \"Stop2\": 1.5}, {\"Procedure group\": \"Knee replacement\", \"Physician\": 1911, \"Cases\": 75, \"Avg cost\": 2828, \"LOS O/E\": 1.38, \"Header\": \"Knee replacement\\nn = 734\", \"Start1\": 1, \"Stop1\": 1.25, \"Start2\": 1.25, \"Stop2\": 1.5}, {\"Procedure group\": \"Knee replacement\", \"Physician\": 1430, \"Cases\": 6, \"Avg cost\": 4714, \"LOS O/E\": 1.21, \"Header\": \"Knee replacement\\nn = 734\", \"Start1\": 1, \"Stop1\": 1.25, \"Start2\": 1.25, \"Stop2\": 1.5}, {\"Procedure group\": \"Knee replacement\", \"Physician\": 1041, \"Cases\": 16, \"Avg cost\": 4102, \"LOS O/E\": 1.31, \"Header\": \"Knee replacement\\nn = 734\", \"Start1\": 1, \"Stop1\": 1.25, \"Start2\": 1.25, \"Stop2\": 1.5}, {\"Procedure group\": \"Knee replacement\", \"Physician\": 1265, \"Cases\": 56, \"Avg cost\": 4648, \"LOS O/E\": 1.59, \"Header\": \"Knee replacement\\nn = 734\", \"Start1\": 1, \"Stop1\": 1.25, \"Start2\": 1.25, \"Stop2\": 1.5}, {\"Procedure group\": \"Knee replacement\", \"Physician\": 1988, \"Cases\": 90, \"Avg cost\": 3628, \"LOS O/E\": 0.59, \"Header\": \"Knee replacement\\nn = 734\", \"Start1\": 1, \"Stop1\": 1.25, \"Start2\": 1.25, \"Stop2\": 1.5}, {\"Procedure group\": \"Knee replacement\", \"Physician\": 1523, \"Cases\": 85, \"Avg cost\": 4637, \"LOS O/E\": 0.59, \"Header\": \"Knee replacement\\nn = 734\", \"Start1\": 1, \"Stop1\": 1.25, \"Start2\": 1.25, \"Stop2\": 1.5}, {\"Procedure group\": \"Knee replacement\", \"Physician\": 1497, \"Cases\": 5, \"Avg cost\": 3464, \"LOS O/E\": 0.89, \"Header\": \"Knee replacement\\nn = 734\", \"Start1\": 1, \"Stop1\": 1.25, \"Start2\": 1.25, \"Stop2\": 1.5}, {\"Procedure group\": \"Knee replacement\", \"Physician\": 1414, \"Cases\": 83, \"Avg cost\": 3381, \"LOS O/E\": 1.07, \"Header\": \"Knee replacement\\nn = 734\", \"Start1\": 1, \"Stop1\": 1.25, \"Start2\": 1.25, \"Stop2\": 1.5}, {\"Procedure group\": \"Knee replacement\", \"Physician\": 1940, \"Cases\": 68, \"Avg cost\": 4915, \"LOS O/E\": 0.58, \"Header\": \"Knee replacement\\nn = 734\", \"Start1\": 1, \"Stop1\": 1.25, \"Start2\": 1.25, \"Stop2\": 1.5}, {\"Procedure group\": \"Knee replacement\", \"Physician\": 1802, \"Cases\": 47, \"Avg cost\": 4217, \"LOS O/E\": 1.11, \"Header\": \"Knee replacement\\nn = 734\", \"Start1\": 1, \"Stop1\": 1.25, \"Start2\": 1.25, \"Stop2\": 1.5}, {\"Procedure group\": \"Knee replacement\", \"Physician\": 1849, \"Cases\": 36, \"Avg cost\": 4874, \"LOS O/E\": 1.28, \"Header\": \"Knee replacement\\nn = 734\", \"Start1\": 1, \"Stop1\": 1.25, \"Start2\": 1.25, \"Stop2\": 1.5}, {\"Procedure group\": \"Knee replacement\", \"Physician\": 1310, \"Cases\": 46, \"Avg cost\": 3627, \"LOS O/E\": 1.41, \"Header\": \"Knee replacement\\nn = 734\", \"Start1\": 1, \"Stop1\": 1.25, \"Start2\": 1.25, \"Stop2\": 1.5}, {\"Procedure group\": \"Hip replacement\", \"Physician\": 1991, \"Cases\": 13, \"Avg cost\": 5691, \"LOS O/E\": 1.01, \"Header\": \"Hip replacement\\nn = 698\", \"Start1\": 1, \"Stop1\": 1.25, \"Start2\": 1.25, \"Stop2\": 1.5}, {\"Procedure group\": \"Hip replacement\", \"Physician\": 1488, \"Cases\": 29, \"Avg cost\": 6035, \"LOS O/E\": 0.84, \"Header\": \"Hip replacement\\nn = 698\", \"Start1\": 1, \"Stop1\": 1.25, \"Start2\": 1.25, \"Stop2\": 1.5}, {\"Procedure group\": \"Hip replacement\", \"Physician\": 1366, \"Cases\": 77, \"Avg cost\": 4927, \"LOS O/E\": 1.68, \"Header\": \"Hip replacement\\nn = 698\", \"Start1\": 1, \"Stop1\": 1.25, \"Start2\": 1.25, \"Stop2\": 1.5}, {\"Procedure group\": \"Hip replacement\", \"Physician\": 1597, \"Cases\": 33, \"Avg cost\": 2674, \"LOS O/E\": 1.11, \"Header\": \"Hip replacement\\nn = 698\", \"Start1\": 1, \"Stop1\": 1.25, \"Start2\": 1.25, \"Stop2\": 1.5}, {\"Procedure group\": \"Hip replacement\", \"Physician\": 1913, \"Cases\": 35, \"Avg cost\": 4656, \"LOS O/E\": 1.67, \"Header\": \"Hip replacement\\nn = 698\", \"Start1\": 1, \"Stop1\": 1.25, \"Start2\": 1.25, \"Stop2\": 1.5}, {\"Procedure group\": \"Hip replacement\", \"Physician\": 1929, \"Cases\": 23, \"Avg cost\": 2944, \"LOS O/E\": 1.24, \"Header\": \"Hip replacement\\nn = 698\", \"Start1\": 1, \"Stop1\": 1.25, \"Start2\": 1.25, \"Stop2\": 1.5}, {\"Procedure group\": \"Hip replacement\", \"Physician\": 1223, \"Cases\": 74, \"Avg cost\": 5984, \"LOS O/E\": 1.41, \"Header\": \"Hip replacement\\nn = 698\", \"Start1\": 1, \"Stop1\": 1.25, \"Start2\": 1.25, \"Stop2\": 1.5}, {\"Procedure group\": \"Hip replacement\", \"Physician\": 1516, \"Cases\": 62, \"Avg cost\": 6809, \"LOS O/E\": 0.76, \"Header\": \"Hip replacement\\nn = 698\", \"Start1\": 1, \"Stop1\": 1.25, \"Start2\": 1.25, \"Stop2\": 1.5}, {\"Procedure group\": \"Hip replacement\", \"Physician\": 1142, \"Cases\": 94, \"Avg cost\": 4746, \"LOS O/E\": 1.5, \"Header\": \"Hip replacement\\nn = 698\", \"Start1\": 1, \"Stop1\": 1.25, \"Start2\": 1.25, \"Stop2\": 1.5}, {\"Procedure group\": \"Hip replacement\", \"Physician\": 1288, \"Cases\": 15, \"Avg cost\": 3559, \"LOS O/E\": 1.53, \"Header\": \"Hip replacement\\nn = 698\", \"Start1\": 1, \"Stop1\": 1.25, \"Start2\": 1.25, \"Stop2\": 1.5}, {\"Procedure group\": \"Hip replacement\", \"Physician\": 1143, \"Cases\": 45, \"Avg cost\": 3990, \"LOS O/E\": 0.71, \"Header\": \"Hip replacement\\nn = 698\", \"Start1\": 1, \"Stop1\": 1.25, \"Start2\": 1.25, \"Stop2\": 1.5}, {\"Procedure group\": \"Hip replacement\", \"Physician\": 1773, \"Cases\": 70, \"Avg cost\": 2132, \"LOS O/E\": 0.71, \"Header\": \"Hip replacement\\nn = 698\", \"Start1\": 1, \"Stop1\": 1.25, \"Start2\": 1.25, \"Stop2\": 1.5}, {\"Procedure group\": \"Hip replacement\", \"Physician\": 1097, \"Cases\": 67, \"Avg cost\": 4220, \"LOS O/E\": 1.19, \"Header\": \"Hip replacement\\nn = 698\", \"Start1\": 1, \"Stop1\": 1.25, \"Start2\": 1.25, \"Stop2\": 1.5}, {\"Procedure group\": \"Hip replacement\", \"Physician\": 1633, \"Cases\": 18, \"Avg cost\": 2959, \"LOS O/E\": 0.65, \"Header\": \"Hip replacement\\nn = 698\", \"Start1\": 1, \"Stop1\": 1.25, \"Start2\": 1.25, \"Stop2\": 1.5}, {\"Procedure group\": \"Hip replacement\", \"Physician\": 1818, \"Cases\": 43, \"Avg cost\": 3806, \"LOS O/E\": 1.7, \"Header\": \"Hip replacement\\nn = 698\", \"Start1\": 1, \"Stop1\": 1.25, \"Start2\": 1.25, \"Stop2\": 1.5}, {\"Procedure group\": \"Cervical fusion\", \"Physician\": 1256, \"Cases\": 42, \"Avg cost\": 8047, \"LOS O/E\": 1.37, \"Header\": \"Cervical fusion\\nn = 864\", \"Start1\": 1, \"Stop1\": 1.25, \"Start2\": 1.25, \"Stop2\": 1.5}, {\"Procedure group\": \"Cervical fusion\", \"Physician\": 1931, \"Cases\": 20, \"Avg cost\": 11509, \"LOS O/E\": 0.52, \"Header\": \"Cervical fusion\\nn = 864\", \"Start1\": 1, \"Stop1\": 1.25, \"Start2\": 1.25, \"Stop2\": 1.5}, {\"Procedure group\": \"Cervical fusion\", \"Physician\": 1545, \"Cases\": 40, \"Avg cost\": 6396, \"LOS O/E\": 1.39, \"Header\": \"Cervical fusion\\nn = 864\", \"Start1\": 1, \"Stop1\": 1.25, \"Start2\": 1.25, \"Stop2\": 1.5}, {\"Procedure group\": \"Cervical fusion\", \"Physician\": 1722, \"Cases\": 26, \"Avg cost\": 7724, \"LOS O/E\": 1.67, \"Header\": \"Cervical fusion\\nn = 864\", \"Start1\": 1, \"Stop1\": 1.25, \"Start2\": 1.25, \"Stop2\": 1.5}, {\"Procedure group\": \"Cervical fusion\", \"Physician\": 1829, \"Cases\": 57, \"Avg cost\": 8490, \"LOS O/E\": 1.64, \"Header\": \"Cervical fusion\\nn = 864\", \"Start1\": 1, \"Stop1\": 1.25, \"Start2\": 1.25, \"Stop2\": 1.5}, {\"Procedure group\": \"Cervical fusion\", \"Physician\": 1616, \"Cases\": 64, \"Avg cost\": 11683, \"LOS O/E\": 1.69, \"Header\": \"Cervical fusion\\nn = 864\", \"Start1\": 1, \"Stop1\": 1.25, \"Start2\": 1.25, \"Stop2\": 1.5}, {\"Procedure group\": \"Cervical fusion\", \"Physician\": 1923, \"Cases\": 39, \"Avg cost\": 5509, \"LOS O/E\": 1.34, \"Header\": \"Cervical fusion\\nn = 864\", \"Start1\": 1, \"Stop1\": 1.25, \"Start2\": 1.25, \"Stop2\": 1.5}, {\"Procedure group\": \"Cervical fusion\", \"Physician\": 1150, \"Cases\": 99, \"Avg cost\": 5824, \"LOS O/E\": 1.01, \"Header\": \"Cervical fusion\\nn = 864\", \"Start1\": 1, \"Stop1\": 1.25, \"Start2\": 1.25, \"Stop2\": 1.5}, {\"Procedure group\": \"Cervical fusion\", \"Physician\": 1317, \"Cases\": 93, \"Avg cost\": 11415, \"LOS O/E\": 1.35, \"Header\": \"Cervical fusion\\nn = 864\", \"Start1\": 1, \"Stop1\": 1.25, \"Start2\": 1.25, \"Stop2\": 1.5}, {\"Procedure group\": \"Cervical fusion\", \"Physician\": 1101, \"Cases\": 73, \"Avg cost\": 6198, \"LOS O/E\": 0.7, \"Header\": \"Cervical fusion\\nn = 864\", \"Start1\": 1, \"Stop1\": 1.25, \"Start2\": 1.25, \"Stop2\": 1.5}, {\"Procedure group\": \"Cervical fusion\", \"Physician\": 1747, \"Cases\": 72, \"Avg cost\": 10715, \"LOS O/E\": 1.4, \"Header\": \"Cervical fusion\\nn = 864\", \"Start1\": 1, \"Stop1\": 1.25, \"Start2\": 1.25, \"Stop2\": 1.5}, {\"Procedure group\": \"Cervical fusion\", \"Physician\": 1075, \"Cases\": 69, \"Avg cost\": 6792, \"LOS O/E\": 1.1, \"Header\": \"Cervical fusion\\nn = 864\", \"Start1\": 1, \"Stop1\": 1.25, \"Start2\": 1.25, \"Stop2\": 1.5}, {\"Procedure group\": \"Cervical fusion\", \"Physician\": 1920, \"Cases\": 79, \"Avg cost\": 5370, \"LOS O/E\": 0.6, \"Header\": \"Cervical fusion\\nn = 864\", \"Start1\": 1, \"Stop1\": 1.25, \"Start2\": 1.25, \"Stop2\": 1.5}, {\"Procedure group\": \"Cervical fusion\", \"Physician\": 1870, \"Cases\": 81, \"Avg cost\": 11693, \"LOS O/E\": 1.46, \"Header\": \"Cervical fusion\\nn = 864\", \"Start1\": 1, \"Stop1\": 1.25, \"Start2\": 1.25, \"Stop2\": 1.5}, {\"Procedure group\": \"Cervical fusion\", \"Physician\": 1700, \"Cases\": 10, \"Avg cost\": 9701, \"LOS O/E\": 1.21, \"Header\": \"Cervical fusion\\nn = 864\", \"Start1\": 1, \"Stop1\": 1.25, \"Start2\": 1.25, \"Stop2\": 1.5}, {\"Procedure group\": \"Lumbar fusion\", \"Physician\": 1338, \"Cases\": 60, \"Avg cost\": 14752, \"LOS O/E\": 0.68, \"Header\": \"Lumbar fusion\\nn = 725\", \"Start1\": 1, \"Stop1\": 1.25, \"Start2\": 1.25, \"Stop2\": 1.5}, {\"Procedure group\": \"Lumbar fusion\", \"Physician\": 1483, \"Cases\": 89, \"Avg cost\": 7212, \"LOS O/E\": 1.49, \"Header\": \"Lumbar fusion\\nn = 725\", \"Start1\": 1, \"Stop1\": 1.25, \"Start2\": 1.25, \"Stop2\": 1.5}, {\"Procedure group\": \"Lumbar fusion\", \"Physician\": 1573, \"Cases\": 25, \"Avg cost\": 6437, \"LOS O/E\": 1.13, \"Header\": \"Lumbar fusion\\nn = 725\", \"Start1\": 1, \"Stop1\": 1.25, \"Start2\": 1.25, \"Stop2\": 1.5}, {\"Procedure group\": \"Lumbar fusion\", \"Physician\": 1103, \"Cases\": 41, \"Avg cost\": 8038, \"LOS O/E\": 1.29, \"Header\": \"Lumbar fusion\\nn = 725\", \"Start1\": 1, \"Stop1\": 1.25, \"Start2\": 1.25, \"Stop2\": 1.5}, {\"Procedure group\": \"Lumbar fusion\", \"Physician\": 1362, \"Cases\": 88, \"Avg cost\": 9088, \"LOS O/E\": 1.38, \"Header\": \"Lumbar fusion\\nn = 725\", \"Start1\": 1, \"Stop1\": 1.25, \"Start2\": 1.25, \"Stop2\": 1.5}, {\"Procedure group\": \"Lumbar fusion\", \"Physician\": 1444, \"Cases\": 65, \"Avg cost\": 7961, \"LOS O/E\": 1.27, \"Header\": \"Lumbar fusion\\nn = 725\", \"Start1\": 1, \"Stop1\": 1.25, \"Start2\": 1.25, \"Stop2\": 1.5}, {\"Procedure group\": \"Lumbar fusion\", \"Physician\": 1323, \"Cases\": 76, \"Avg cost\": 12409, \"LOS O/E\": 1.66, \"Header\": \"Lumbar fusion\\nn = 725\", \"Start1\": 1, \"Stop1\": 1.25, \"Start2\": 1.25, \"Stop2\": 1.5}, {\"Procedure group\": \"Lumbar fusion\", \"Physician\": 1625, \"Cases\": 17, \"Avg cost\": 7499, \"LOS O/E\": 1.61, \"Header\": \"Lumbar fusion\\nn = 725\", \"Start1\": 1, \"Stop1\": 1.25, \"Start2\": 1.25, \"Stop2\": 1.5}, {\"Procedure group\": \"Lumbar fusion\", \"Physician\": 1655, \"Cases\": 48, \"Avg cost\": 12064, \"LOS O/E\": 0.67, \"Header\": \"Lumbar fusion\\nn = 725\", \"Start1\": 1, \"Stop1\": 1.25, \"Start2\": 1.25, \"Stop2\": 1.5}, {\"Procedure group\": \"Lumbar fusion\", \"Physician\": 1934, \"Cases\": 7, \"Avg cost\": 7901, \"LOS O/E\": 0.9, \"Header\": \"Lumbar fusion\\nn = 725\", \"Start1\": 1, \"Stop1\": 1.25, \"Start2\": 1.25, \"Stop2\": 1.5}, {\"Procedure group\": \"Lumbar fusion\", \"Physician\": 1209, \"Cases\": 44, \"Avg cost\": 6596, \"LOS O/E\": 1.47, \"Header\": \"Lumbar fusion\\nn = 725\", \"Start1\": 1, \"Stop1\": 1.25, \"Start2\": 1.25, \"Stop2\": 1.5}, {\"Procedure group\": \"Lumbar fusion\", \"Physician\": 1989, \"Cases\": 21, \"Avg cost\": 6354, \"LOS O/E\": 1.58, \"Header\": \"Lumbar fusion\\nn = 725\", \"Start1\": 1, \"Stop1\": 1.25, \"Start2\": 1.25, \"Stop2\": 1.5}, {\"Procedure group\": \"Lumbar fusion\", \"Physician\": 1565, \"Cases\": 80, \"Avg cost\": 9188, \"LOS O/E\": 0.6, \"Header\": \"Lumbar fusion\\nn = 725\", \"Start1\": 1, \"Stop1\": 1.25, \"Start2\": 1.25, \"Stop2\": 1.5}, {\"Procedure group\": \"Lumbar fusion\", \"Physician\": 1453, \"Cases\": 9, \"Avg cost\": 9030, \"LOS O/E\": 1.27, \"Header\": \"Lumbar fusion\\nn = 725\", \"Start1\": 1, \"Stop1\": 1.25, \"Start2\": 1.25, \"Stop2\": 1.5}, {\"Procedure group\": \"Lumbar fusion\", \"Physician\": 1886, \"Cases\": 55, \"Avg cost\": 8029, \"LOS O/E\": 1.41, \"Header\": \"Lumbar fusion\\nn = 725\", \"Start1\": 1, \"Stop1\": 1.25, \"Start2\": 1.25, \"Stop2\": 1.5}]}}, {\"mode\": \"vega-lite\"});\n",
       "</script>"
      ],
      "text/plain": [
       "alt.FacetChart(...)"
      ]
     },
     "execution_count": 4,
     "metadata": {},
     "output_type": "execute_result"
    }
   ],
   "source": [
    "charttDf['Start1'] = 1; charttDf['Stop1'] = 1.25\n",
    "charttDf['Start2'] = 1.25; charttDf['Stop2'] = 1.5\n",
    "\n",
    "scatter=alt.Chart(charttDf).mark_circle(size=150,strokeWidth=.5,stroke='#696969').encode(\n",
    "        x=alt.X(\"LOS O/E:Q\",scale=alt.Scale(domain=(0.5, 1.5),nice=False, clamp=True),\n",
    "                axis=alt.Axis(grid=False,title='LOS O/E',labelAngle=0,tickSize=0,format='.2f',\n",
    "                                values=[.5,.75,1,1.25,1.5],\n",
    "                                labelExpr=\"datum.label % 1.5 ? datum.label: '1.50+'\")),\n",
    "        y=alt.Y(\"Avg cost:Q\",axis=alt.Axis(title='Average supply cost',tickCount=4,format='$,.0f')),\n",
    "        color=alt.Color('Cases:Q',scale=alt.Scale(range=['#A6DBD2','#018c8a']),legend=None))\n",
    "\n",
    "ruler = alt.Chart(charttDf).mark_rule(stroke=\"#ddd\",strokeWidth=1).encode(x=alt.X('Start1:Q'))\n",
    "\n",
    "area1 = alt.Chart(charttDf).mark_rect(color='#696969',opacity=0.05).encode(\n",
    "    x=alt.X('min(Start1):Q',scale=alt.Scale(domain=(0.5, 1.5),nice=False, clamp=True)), \n",
    "    x2='min(Stop1):Q', y=alt.value(0), y2=alt.value(550))\n",
    "\n",
    "area2 = alt.Chart(charttDf).mark_rect(color='#696969',opacity=0.1).encode(\n",
    "    x=alt.X('min(Start2):Q',scale=alt.Scale(domain=(0.5, 1.5),nice=False, clamp=True)),\n",
    "    x2='min(Stop2):Q',y=alt.value(0), y2=alt.value(550))\n",
    "\n",
    "alt.layer(area1+area2+ruler+scatter\n",
    "            ).properties(height=550,width=175\n",
    "            ).facet(alt.Column('Header:N',sort=['Knee replacement', 'Hip replacement',\n",
    "                                'Cervical fusion', 'Lumbar fusion'],title=None),spacing=30\n",
    "            ).properties(title='Orthopedic physician performance by procedure group'\n",
    "            ).configure(lineBreak='\\n'\n",
    "            ).configure_header(labelFontStyle='bold',labelColor='#6e6e6e',labelFont='Arial',\n",
    "                               labelFontSize=14,labelPadding=12\n",
    "            ).configure_view(strokeWidth=1\n",
    "            ).configure_axis(labelColor='#6e6e6e',labelFont='Arial',labelFontSize=12,\n",
    "                             titleFont='Arial',titleFontSize=12,titleColor='#6e6e6e'\n",
    "            ).resolve_scale(color='independent'\n",
    "            ).configure_title(fontSize=16,color='#6e6e6e',font='Arial',anchor='start',offset=25)"
   ]
  },
  {
   "cell_type": "markdown",
   "metadata": {},
   "source": [
    "### Add a legend"
   ]
  },
  {
   "cell_type": "markdown",
   "metadata": {},
   "source": [
    "<img src=\"..\\assets\\images\\orthoLegend.png\" width=\"300\" height=\"200\" />"
   ]
  },
  {
   "cell_type": "code",
   "execution_count": null,
   "metadata": {},
   "outputs": [],
   "source": []
  }
 ],
 "metadata": {
  "kernelspec": {
   "display_name": "Python 3",
   "language": "python",
   "name": "python3"
  },
  "language_info": {
   "codemirror_mode": {
    "name": "ipython",
    "version": 3
   },
   "file_extension": ".py",
   "mimetype": "text/x-python",
   "name": "python",
   "nbconvert_exporter": "python",
   "pygments_lexer": "ipython3",
   "version": "3.7.3"
  }
 },
 "nbformat": 4,
 "nbformat_minor": 2
}
