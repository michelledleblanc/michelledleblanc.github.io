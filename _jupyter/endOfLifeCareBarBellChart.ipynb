{
 "cells": [
  {
   "cell_type": "markdown",
   "metadata": {},
   "source": [
    "## Barbell chart - end of life care by service line"
   ]
  },
  {
   "cell_type": "raw",
   "metadata": {},
   "source": [
    "This exercise explores do not resuscitate status (DNR) and palliative care using discharge data from the 2012 National Inpatient Sample (NIS), Healthcare Cost and Utilization Project (HCUP), Agency for Healthcare Research and Quality. Data sets are loaded in preprocessed in order to adhere to data use standards."
   ]
  },
  {
   "cell_type": "code",
   "execution_count": 1,
   "metadata": {},
   "outputs": [],
   "source": [
    "import pandas as pd\n",
    "import numpy as np\n",
    "import altair as alt\n",
    "pd.options.mode.chained_assignment = None"
   ]
  },
  {
   "cell_type": "markdown",
   "metadata": {},
   "source": [
    "### Chose a focus hospital and get a benchmark group for comparison"
   ]
  },
  {
   "cell_type": "code",
   "execution_count": 2,
   "metadata": {},
   "outputs": [],
   "source": [
    "focusHospital = 60307  #deid hosptial number\n",
    "focusName = 'General Hospital'"
   ]
  },
  {
   "cell_type": "code",
   "execution_count": 3,
   "metadata": {},
   "outputs": [
    {
     "name": "stdout",
     "output_type": "stream",
     "text": [
      "[90082, 30649, 50436, 30595, 30681, 40565, 30527, 30699, 50025, 20394, 80040, 80150, 80010, 20153, 20003, 80138, 20303, 70575, 50062, 50363, 10071, 90406, 60141, 20085, 40334, 60397, 40582, 20069, 40491, 80124, 40495, 20190, 20177, 70655, 40579, 90298, 90164, 40072, 70437, 90110, 90525, 60210, 40445, 20329, 10130, 60044, 30420, 80200, 50126]\n"
     ]
    }
   ],
   "source": [
    "#see post \"Hospital benchmarking\" for details\n",
    "import getBenchmarkGroup \n",
    "compareGroupList = getBenchmarkGroup.getBenchmarkGroup(hospitalId=focusHospital, groupSize=50)\n",
    "print(compareGroupList)"
   ]
  },
  {
   "cell_type": "code",
   "execution_count": 4,
   "metadata": {},
   "outputs": [],
   "source": [
    "#load prepared data\n",
    "eolDf = pd.read_excel('..\\\\reference\\\\eolData.xlsx')\n",
    "\n",
    "focusDf = eolDf.loc[eolDf['HOSP_NIS']==focusHospital]\n",
    "focusDf['Level'] = 'Focus'\n",
    "focusDf['DNRorPC'] = focusDf['DNR'] + focusDf['PC']\n",
    "#get top 10 service lines of interest\n",
    "slList = focusDf.sort_values('DNRorPC',ascending=False)['SL'].tolist()[:10]\n",
    "focusDf = focusDf.loc[focusDf['SL'].isin(slList)]\n",
    "\n",
    "compareDf = eolDf.loc[eolDf['HOSP_NIS'].isin(compareGroupList)]\n",
    "compareDf = compareDf.groupby('SL').sum().reset_index()\n",
    "compareDf = compareDf.loc[compareDf['SL'].isin(slList)]\n",
    "compareDf['Level'] = 'Compare'"
   ]
  },
  {
   "cell_type": "code",
   "execution_count": 5,
   "metadata": {},
   "outputs": [
    {
     "data": {
      "text/html": [
       "<div>\n",
       "<style scoped>\n",
       "    .dataframe tbody tr th:only-of-type {\n",
       "        vertical-align: middle;\n",
       "    }\n",
       "\n",
       "    .dataframe tbody tr th {\n",
       "        vertical-align: top;\n",
       "    }\n",
       "\n",
       "    .dataframe thead th {\n",
       "        text-align: right;\n",
       "    }\n",
       "</style>\n",
       "<table border=\"1\" class=\"dataframe\">\n",
       "  <thead>\n",
       "    <tr style=\"text-align: right;\">\n",
       "      <th></th>\n",
       "      <th>Level</th>\n",
       "      <th>SL</th>\n",
       "      <th>Cases</th>\n",
       "      <th>DNR</th>\n",
       "      <th>PC</th>\n",
       "    </tr>\n",
       "  </thead>\n",
       "  <tbody>\n",
       "    <tr>\n",
       "      <th>65971</th>\n",
       "      <td>Focus</td>\n",
       "      <td>CARDIOLOGY</td>\n",
       "      <td>824</td>\n",
       "      <td>39</td>\n",
       "      <td>5</td>\n",
       "    </tr>\n",
       "    <tr>\n",
       "      <th>65973</th>\n",
       "      <td>Focus</td>\n",
       "      <td>ENDOCRINOLOGY</td>\n",
       "      <td>195</td>\n",
       "      <td>14</td>\n",
       "      <td>3</td>\n",
       "    </tr>\n",
       "    <tr>\n",
       "      <th>65974</th>\n",
       "      <td>Focus</td>\n",
       "      <td>GASTROENTEROLOGY</td>\n",
       "      <td>500</td>\n",
       "      <td>22</td>\n",
       "      <td>5</td>\n",
       "    </tr>\n",
       "    <tr>\n",
       "      <th>65975</th>\n",
       "      <td>Focus</td>\n",
       "      <td>GENERAL MEDICINE</td>\n",
       "      <td>301</td>\n",
       "      <td>35</td>\n",
       "      <td>4</td>\n",
       "    </tr>\n",
       "    <tr>\n",
       "      <th>65976</th>\n",
       "      <td>Focus</td>\n",
       "      <td>GENERAL SURGERY</td>\n",
       "      <td>292</td>\n",
       "      <td>8</td>\n",
       "      <td>1</td>\n",
       "    </tr>\n",
       "  </tbody>\n",
       "</table>\n",
       "</div>"
      ],
      "text/plain": [
       "       Level                SL  Cases  DNR  PC\n",
       "65971  Focus        CARDIOLOGY    824   39   5\n",
       "65973  Focus     ENDOCRINOLOGY    195   14   3\n",
       "65974  Focus  GASTROENTEROLOGY    500   22   5\n",
       "65975  Focus  GENERAL MEDICINE    301   35   4\n",
       "65976  Focus   GENERAL SURGERY    292    8   1"
      ]
     },
     "execution_count": 5,
     "metadata": {},
     "output_type": "execute_result"
    }
   ],
   "source": [
    "eol = focusDf.append(compareDf)\n",
    "eol[['Level','SL','Cases','DNR','PC']].head()"
   ]
  },
  {
   "cell_type": "markdown",
   "metadata": {},
   "source": [
    "### Prepare data for Altair chart"
   ]
  },
  {
   "cell_type": "code",
   "execution_count": 6,
   "metadata": {},
   "outputs": [
    {
     "data": {
      "text/html": [
       "<div>\n",
       "<style scoped>\n",
       "    .dataframe tbody tr th:only-of-type {\n",
       "        vertical-align: middle;\n",
       "    }\n",
       "\n",
       "    .dataframe tbody tr th {\n",
       "        vertical-align: top;\n",
       "    }\n",
       "\n",
       "    .dataframe thead th {\n",
       "        text-align: right;\n",
       "    }\n",
       "</style>\n",
       "<table border=\"1\" class=\"dataframe\">\n",
       "  <thead>\n",
       "    <tr style=\"text-align: right;\">\n",
       "      <th></th>\n",
       "      <th>Level</th>\n",
       "      <th>SL</th>\n",
       "      <th>variable</th>\n",
       "      <th>value</th>\n",
       "      <th>% Focus</th>\n",
       "      <th>% Compare</th>\n",
       "      <th>Color compare</th>\n",
       "    </tr>\n",
       "  </thead>\n",
       "  <tbody>\n",
       "    <tr>\n",
       "      <th>0</th>\n",
       "      <td>Compare</td>\n",
       "      <td>PULMONARY</td>\n",
       "      <td>DNR %</td>\n",
       "      <td>6.411180</td>\n",
       "      <td>11.478599</td>\n",
       "      <td>6.411180</td>\n",
       "      <td>Benchmark</td>\n",
       "    </tr>\n",
       "    <tr>\n",
       "      <th>1</th>\n",
       "      <td>Focus</td>\n",
       "      <td>PULMONARY</td>\n",
       "      <td>DNR %</td>\n",
       "      <td>11.478599</td>\n",
       "      <td>11.478599</td>\n",
       "      <td>6.411180</td>\n",
       "      <td>General Hospital above benchmark</td>\n",
       "    </tr>\n",
       "    <tr>\n",
       "      <th>20</th>\n",
       "      <td>Compare</td>\n",
       "      <td>PULMONARY</td>\n",
       "      <td>PC %</td>\n",
       "      <td>2.161072</td>\n",
       "      <td>0.972763</td>\n",
       "      <td>2.161072</td>\n",
       "      <td>Benchmark</td>\n",
       "    </tr>\n",
       "    <tr>\n",
       "      <th>21</th>\n",
       "      <td>Focus</td>\n",
       "      <td>PULMONARY</td>\n",
       "      <td>PC %</td>\n",
       "      <td>0.972763</td>\n",
       "      <td>0.972763</td>\n",
       "      <td>2.161072</td>\n",
       "      <td>General Hospital below benchmark</td>\n",
       "    </tr>\n",
       "    <tr>\n",
       "      <th>2</th>\n",
       "      <td>Compare</td>\n",
       "      <td>ONCOLOGY/HEMATOLOGY</td>\n",
       "      <td>DNR %</td>\n",
       "      <td>5.918004</td>\n",
       "      <td>18.012422</td>\n",
       "      <td>5.918004</td>\n",
       "      <td>Benchmark</td>\n",
       "    </tr>\n",
       "  </tbody>\n",
       "</table>\n",
       "</div>"
      ],
      "text/plain": [
       "      Level                   SL variable      value    % Focus  % Compare  \\\n",
       "0   Compare            PULMONARY    DNR %   6.411180  11.478599   6.411180   \n",
       "1     Focus            PULMONARY    DNR %  11.478599  11.478599   6.411180   \n",
       "20  Compare            PULMONARY     PC %   2.161072   0.972763   2.161072   \n",
       "21    Focus            PULMONARY     PC %   0.972763   0.972763   2.161072   \n",
       "2   Compare  ONCOLOGY/HEMATOLOGY    DNR %   5.918004  18.012422   5.918004   \n",
       "\n",
       "                       Color compare  \n",
       "0                          Benchmark  \n",
       "1   General Hospital above benchmark  \n",
       "20                         Benchmark  \n",
       "21  General Hospital below benchmark  \n",
       "2                          Benchmark  "
      ]
     },
     "execution_count": 6,
     "metadata": {},
     "output_type": "execute_result"
    }
   ],
   "source": [
    "for col in ['DNR','PC']:\n",
    "    eol[f'{col} %'] = (eol[f'{col}']/eol['Cases']) * 100\n",
    "\n",
    "eol['SL'] = pd.Categorical(eol['SL'], slList) #order top 10 service lines\n",
    "\n",
    "eol = eol.sort_values(['SL','Level'])\n",
    "eol = pd.melt(eol, id_vars=['Level', 'SL'], value_vars=[c for c in eol.columns if '%' in c])\n",
    "\n",
    "eolChart=pd.DataFrame()\n",
    "for sl in eol['SL'].unique():\n",
    "    for cat in eol['variable'].unique():\n",
    "        temp = eol.loc[(eol['SL']==sl) & (eol['variable']==cat)]\n",
    "        temp['% Focus'] = temp.loc[temp['Level']=='Focus']['value'].values[0]\n",
    "        temp['% Compare'] = temp.loc[temp['Level']=='Compare']['value'].values[0]\n",
    "        temp.loc[temp['% Focus'] - temp['% Compare'] > 0 , 'Color compare'] = \\\n",
    "                                                    f'{focusName} above benchmark'\n",
    "        temp.loc[temp['% Focus'] - temp['% Compare'] < 0, 'Color compare'] = \\\n",
    "                                                    f'{focusName} below benchmark'\n",
    "        temp['Color compare'] =  temp['Color compare'].fillna('Benchmark')\n",
    "        temp.loc[temp['Level']=='Compare', 'Color compare'] = 'Benchmark'\n",
    "        eolChart = eolChart.append(temp)\n",
    "eolChart.head()"
   ]
  },
  {
   "cell_type": "markdown",
   "metadata": {},
   "source": [
    "### Use layering and faceting for final barbell-style plot"
   ]
  },
  {
   "cell_type": "code",
   "execution_count": 7,
   "metadata": {},
   "outputs": [
    {
     "data": {
      "text/html": [
       "\n",
       "<div id=\"altair-viz-84169c1060fc4bac9923d162fcc0dedf\"></div>\n",
       "<script type=\"text/javascript\">\n",
       "  (function(spec, embedOpt){\n",
       "    let outputDiv = document.currentScript.previousElementSibling;\n",
       "    if (outputDiv.id !== \"altair-viz-84169c1060fc4bac9923d162fcc0dedf\") {\n",
       "      outputDiv = document.getElementById(\"altair-viz-84169c1060fc4bac9923d162fcc0dedf\");\n",
       "    }\n",
       "    const paths = {\n",
       "      \"vega\": \"https://cdn.jsdelivr.net/npm//vega@5?noext\",\n",
       "      \"vega-lib\": \"https://cdn.jsdelivr.net/npm//vega-lib?noext\",\n",
       "      \"vega-lite\": \"https://cdn.jsdelivr.net/npm//vega-lite@4.8.1?noext\",\n",
       "      \"vega-embed\": \"https://cdn.jsdelivr.net/npm//vega-embed@6?noext\",\n",
       "    };\n",
       "\n",
       "    function loadScript(lib) {\n",
       "      return new Promise(function(resolve, reject) {\n",
       "        var s = document.createElement('script');\n",
       "        s.src = paths[lib];\n",
       "        s.async = true;\n",
       "        s.onload = () => resolve(paths[lib]);\n",
       "        s.onerror = () => reject(`Error loading script: ${paths[lib]}`);\n",
       "        document.getElementsByTagName(\"head\")[0].appendChild(s);\n",
       "      });\n",
       "    }\n",
       "\n",
       "    function showError(err) {\n",
       "      outputDiv.innerHTML = `<div class=\"error\" style=\"color:red;\">${err}</div>`;\n",
       "      throw err;\n",
       "    }\n",
       "\n",
       "    function displayChart(vegaEmbed) {\n",
       "      vegaEmbed(outputDiv, spec, embedOpt)\n",
       "        .catch(err => showError(`Javascript Error: ${err.message}<br>This usually means there's a typo in your chart specification. See the javascript console for the full traceback.`));\n",
       "    }\n",
       "\n",
       "    if(typeof define === \"function\" && define.amd) {\n",
       "      requirejs.config({paths});\n",
       "      require([\"vega-embed\"], displayChart, err => showError(`Error loading script: ${err.message}`));\n",
       "    } else if (typeof vegaEmbed === \"function\") {\n",
       "      displayChart(vegaEmbed);\n",
       "    } else {\n",
       "      loadScript(\"vega\")\n",
       "        .then(() => loadScript(\"vega-lite\"))\n",
       "        .then(() => loadScript(\"vega-embed\"))\n",
       "        .catch(showError)\n",
       "        .then(() => displayChart(vegaEmbed));\n",
       "    }\n",
       "  })({\"config\": {\"view\": {\"continuousWidth\": 400, \"continuousHeight\": 300, \"fill\": \"#f2f2f2\", \"strokeWidth\": 0}, \"axis\": {\"labelColor\": \"#6e6e6e\", \"labelFont\": \"Arial\", \"labelFontSize\": 14, \"labelLimit\": 1000, \"tickSize\": 0, \"titleColor\": \"#6e6e6e\", \"titleFont\": \"Arial\", \"titleFontSize\": 12}, \"axisY\": {\"labelAlign\": \"left\", \"labelPadding\": 160}, \"header\": {\"labelColor\": \"#6e6e6e\", \"labelFont\": \"Arial\", \"labelFontSize\": 16, \"labelFontStyle\": \"bold\", \"labelPadding\": 12}, \"legend\": {\"direction\": \"horizontal\", \"labelColor\": \"#6e6e6e\", \"labelFont\": \"Arial\", \"labelFontSize\": 14, \"labelLimit\": 250, \"legendX\": 35, \"legendY\": 470, \"orient\": \"none\", \"title\": null}, \"title\": {\"anchor\": \"start\", \"color\": \"#6e6e6e\", \"font\": \"Arial\", \"fontSize\": 20, \"offset\": 25}}, \"data\": {\"name\": \"data-76f7cfe9ceefe1d86c49d39172684d1b\"}, \"facet\": {\"type\": \"nominal\", \"field\": \"variable\", \"sort\": [\"DNR\", \"Palliative care\"], \"title\": null}, \"spec\": {\"layer\": [{\"layer\": [{\"mark\": {\"type\": \"rule\", \"color\": \"#c0c0c0\", \"size\": 3}, \"encoding\": {\"x\": {\"type\": \"quantitative\", \"field\": \"% Focus\"}, \"x2\": {\"field\": \"% Compare\"}, \"y\": {\"type\": \"nominal\", \"field\": \"SL\", \"sort\": [\"Pulmonary\", \"Oncology/Hematology\", \"Cardiology\", \"General Medicine\", \"Gastroenterology\", \"Neurology\", \"Nephrology\", \"Endocrinology\", \"General Surgery\", \"Psychiatry\"]}}}, {\"mark\": {\"type\": \"circle\", \"opacity\": 1, \"size\": 250, \"stroke\": \"#696969\", \"strokeWidth\": 0.5}, \"encoding\": {\"color\": {\"type\": \"nominal\", \"field\": \"Color compare\", \"scale\": {\"domain\": [\"Benchmark\", \"General Hospital above benchmark\", \"General Hospital below benchmark\"], \"range\": [\"#696969\", \"#33a02c\", \"#e31a1c\"]}}, \"x\": {\"type\": \"quantitative\", \"axis\": {\"domainWidth\": 1, \"grid\": true, \"labelAngle\": 0, \"tickMinStep\": 1, \"title\": \"% Cases\"}, \"field\": \"value\", \"scale\": {\"zero\": false}}, \"y\": {\"type\": \"nominal\", \"axis\": {\"domainWidth\": 0}, \"field\": \"SL\", \"sort\": [\"Pulmonary\", \"Oncology/Hematology\", \"Cardiology\", \"General Medicine\", \"Gastroenterology\", \"Neurology\", \"Nephrology\", \"Endocrinology\", \"General Surgery\", \"Psychiatry\"], \"title\": null}}}]}], \"height\": 420, \"width\": 310}, \"resolve\": {\"scale\": {\"x\": \"independent\"}}, \"title\": \"General Hospital - end of life care by service line\", \"$schema\": \"https://vega.github.io/schema/vega-lite/v4.8.1.json\", \"datasets\": {\"data-76f7cfe9ceefe1d86c49d39172684d1b\": [{\"Level\": \"Compare\", \"SL\": \"Pulmonary\", \"variable\": \"DNR\", \"value\": 6.4111799452528455, \"% Focus\": 11.478599221789883, \"% Compare\": 6.4111799452528455, \"Color compare\": \"Benchmark\"}, {\"Level\": \"Focus\", \"SL\": \"Pulmonary\", \"variable\": \"DNR\", \"value\": 11.478599221789883, \"% Focus\": 11.478599221789883, \"% Compare\": 6.4111799452528455, \"Color compare\": \"General Hospital above benchmark\"}, {\"Level\": \"Compare\", \"SL\": \"Pulmonary\", \"variable\": \"Palliative care\", \"value\": 2.1610718916582625, \"% Focus\": 0.9727626459143969, \"% Compare\": 2.1610718916582625, \"Color compare\": \"Benchmark\"}, {\"Level\": \"Focus\", \"SL\": \"Pulmonary\", \"variable\": \"Palliative care\", \"value\": 0.9727626459143969, \"% Focus\": 0.9727626459143969, \"% Compare\": 2.1610718916582625, \"Color compare\": \"General Hospital below benchmark\"}, {\"Level\": \"Compare\", \"SL\": \"Oncology/Hematology\", \"variable\": \"DNR\", \"value\": 5.918003565062389, \"% Focus\": 18.012422360248447, \"% Compare\": 5.918003565062389, \"Color compare\": \"Benchmark\"}, {\"Level\": \"Focus\", \"SL\": \"Oncology/Hematology\", \"variable\": \"DNR\", \"value\": 18.012422360248447, \"% Focus\": 18.012422360248447, \"% Compare\": 5.918003565062389, \"Color compare\": \"General Hospital above benchmark\"}, {\"Level\": \"Compare\", \"SL\": \"Oncology/Hematology\", \"variable\": \"Palliative care\", \"value\": 6.524064171122995, \"% Focus\": 13.043478260869565, \"% Compare\": 6.524064171122995, \"Color compare\": \"Benchmark\"}, {\"Level\": \"Focus\", \"SL\": \"Oncology/Hematology\", \"variable\": \"Palliative care\", \"value\": 13.043478260869565, \"% Focus\": 13.043478260869565, \"% Compare\": 6.524064171122995, \"Color compare\": \"General Hospital above benchmark\"}, {\"Level\": \"Compare\", \"SL\": \"Cardiology\", \"variable\": \"DNR\", \"value\": 5.617638175777711, \"% Focus\": 4.733009708737864, \"% Compare\": 5.617638175777711, \"Color compare\": \"Benchmark\"}, {\"Level\": \"Focus\", \"SL\": \"Cardiology\", \"variable\": \"DNR\", \"value\": 4.733009708737864, \"% Focus\": 4.733009708737864, \"% Compare\": 5.617638175777711, \"Color compare\": \"General Hospital below benchmark\"}, {\"Level\": \"Compare\", \"SL\": \"Cardiology\", \"variable\": \"Palliative care\", \"value\": 1.6460283902144368, \"% Focus\": 0.6067961165048543, \"% Compare\": 1.6460283902144368, \"Color compare\": \"Benchmark\"}, {\"Level\": \"Focus\", \"SL\": \"Cardiology\", \"variable\": \"Palliative care\", \"value\": 0.6067961165048543, \"% Focus\": 0.6067961165048543, \"% Compare\": 1.6460283902144368, \"Color compare\": \"General Hospital below benchmark\"}, {\"Level\": \"Compare\", \"SL\": \"General Medicine\", \"variable\": \"DNR\", \"value\": 9.220907297830374, \"% Focus\": 11.627906976744185, \"% Compare\": 9.220907297830374, \"Color compare\": \"Benchmark\"}, {\"Level\": \"Focus\", \"SL\": \"General Medicine\", \"variable\": \"DNR\", \"value\": 11.627906976744185, \"% Focus\": 11.627906976744185, \"% Compare\": 9.220907297830374, \"Color compare\": \"General Hospital above benchmark\"}, {\"Level\": \"Compare\", \"SL\": \"General Medicine\", \"variable\": \"Palliative care\", \"value\": 4.068047337278107, \"% Focus\": 1.3289036544850499, \"% Compare\": 4.068047337278107, \"Color compare\": \"Benchmark\"}, {\"Level\": \"Focus\", \"SL\": \"General Medicine\", \"variable\": \"Palliative care\", \"value\": 1.3289036544850499, \"% Focus\": 1.3289036544850499, \"% Compare\": 4.068047337278107, \"Color compare\": \"General Hospital below benchmark\"}, {\"Level\": \"Compare\", \"SL\": \"Gastroenterology\", \"variable\": \"DNR\", \"value\": 4.208553416254899, \"% Focus\": 4.3999999999999995, \"% Compare\": 4.208553416254899, \"Color compare\": \"Benchmark\"}, {\"Level\": \"Focus\", \"SL\": \"Gastroenterology\", \"variable\": \"DNR\", \"value\": 4.3999999999999995, \"% Focus\": 4.3999999999999995, \"% Compare\": 4.208553416254899, \"Color compare\": \"General Hospital above benchmark\"}, {\"Level\": \"Compare\", \"SL\": \"Gastroenterology\", \"variable\": \"Palliative care\", \"value\": 1.2779008348952121, \"% Focus\": 1.0, \"% Compare\": 1.2779008348952121, \"Color compare\": \"Benchmark\"}, {\"Level\": \"Focus\", \"SL\": \"Gastroenterology\", \"variable\": \"Palliative care\", \"value\": 1.0, \"% Focus\": 1.0, \"% Compare\": 1.2779008348952121, \"Color compare\": \"General Hospital below benchmark\"}, {\"Level\": \"Compare\", \"SL\": \"Neurology\", \"variable\": \"DNR\", \"value\": 6.609442060085836, \"% Focus\": 8.171206225680933, \"% Compare\": 6.609442060085836, \"Color compare\": \"Benchmark\"}, {\"Level\": \"Focus\", \"SL\": \"Neurology\", \"variable\": \"DNR\", \"value\": 8.171206225680933, \"% Focus\": 8.171206225680933, \"% Compare\": 6.609442060085836, \"Color compare\": \"General Hospital above benchmark\"}, {\"Level\": \"Compare\", \"SL\": \"Neurology\", \"variable\": \"Palliative care\", \"value\": 2.775393419170243, \"% Focus\": 1.556420233463035, \"% Compare\": 2.775393419170243, \"Color compare\": \"Benchmark\"}, {\"Level\": \"Focus\", \"SL\": \"Neurology\", \"variable\": \"Palliative care\", \"value\": 1.556420233463035, \"% Focus\": 1.556420233463035, \"% Compare\": 2.775393419170243, \"Color compare\": \"General Hospital below benchmark\"}, {\"Level\": \"Compare\", \"SL\": \"Nephrology\", \"variable\": \"DNR\", \"value\": 7.528133488552581, \"% Focus\": 8.4070796460177, \"% Compare\": 7.528133488552581, \"Color compare\": \"Benchmark\"}, {\"Level\": \"Focus\", \"SL\": \"Nephrology\", \"variable\": \"DNR\", \"value\": 8.4070796460177, \"% Focus\": 8.4070796460177, \"% Compare\": 7.528133488552581, \"Color compare\": \"General Hospital above benchmark\"}, {\"Level\": \"Compare\", \"SL\": \"Nephrology\", \"variable\": \"Palliative care\", \"value\": 1.7074117190531626, \"% Focus\": 0.4424778761061947, \"% Compare\": 1.7074117190531626, \"Color compare\": \"Benchmark\"}, {\"Level\": \"Focus\", \"SL\": \"Nephrology\", \"variable\": \"Palliative care\", \"value\": 0.4424778761061947, \"% Focus\": 0.4424778761061947, \"% Compare\": 1.7074117190531626, \"Color compare\": \"General Hospital below benchmark\"}, {\"Level\": \"Compare\", \"SL\": \"Endocrinology\", \"variable\": \"DNR\", \"value\": 3.509690937663698, \"% Focus\": 7.179487179487179, \"% Compare\": 3.509690937663698, \"Color compare\": \"Benchmark\"}, {\"Level\": \"Focus\", \"SL\": \"Endocrinology\", \"variable\": \"DNR\", \"value\": 7.179487179487179, \"% Focus\": 7.179487179487179, \"% Compare\": 3.509690937663698, \"Color compare\": \"General Hospital above benchmark\"}, {\"Level\": \"Compare\", \"SL\": \"Endocrinology\", \"variable\": \"Palliative care\", \"value\": 0.9952854897852279, \"% Focus\": 1.5384615384615385, \"% Compare\": 0.9952854897852279, \"Color compare\": \"Benchmark\"}, {\"Level\": \"Focus\", \"SL\": \"Endocrinology\", \"variable\": \"Palliative care\", \"value\": 1.5384615384615385, \"% Focus\": 1.5384615384615385, \"% Compare\": 0.9952854897852279, \"Color compare\": \"General Hospital above benchmark\"}, {\"Level\": \"Compare\", \"SL\": \"General Surgery\", \"variable\": \"DNR\", \"value\": 1.2638537818393933, \"% Focus\": 2.73972602739726, \"% Compare\": 1.2638537818393933, \"Color compare\": \"Benchmark\"}, {\"Level\": \"Focus\", \"SL\": \"General Surgery\", \"variable\": \"DNR\", \"value\": 2.73972602739726, \"% Focus\": 2.73972602739726, \"% Compare\": 1.2638537818393933, \"Color compare\": \"General Hospital above benchmark\"}, {\"Level\": \"Compare\", \"SL\": \"General Surgery\", \"variable\": \"Palliative care\", \"value\": 0.87497569511958, \"% Focus\": 0.3424657534246575, \"% Compare\": 0.87497569511958, \"Color compare\": \"Benchmark\"}, {\"Level\": \"Focus\", \"SL\": \"General Surgery\", \"variable\": \"Palliative care\", \"value\": 0.3424657534246575, \"% Focus\": 0.3424657534246575, \"% Compare\": 0.87497569511958, \"Color compare\": \"General Hospital below benchmark\"}, {\"Level\": \"Compare\", \"SL\": \"Psychiatry\", \"variable\": \"DNR\", \"value\": 0.7960808328230252, \"% Focus\": 1.6853932584269662, \"% Compare\": 0.7960808328230252, \"Color compare\": \"Benchmark\"}, {\"Level\": \"Focus\", \"SL\": \"Psychiatry\", \"variable\": \"DNR\", \"value\": 1.6853932584269662, \"% Focus\": 1.6853932584269662, \"% Compare\": 0.7960808328230252, \"Color compare\": \"General Hospital above benchmark\"}, {\"Level\": \"Compare\", \"SL\": \"Psychiatry\", \"variable\": \"Palliative care\", \"value\": 0.1837109614206981, \"% Focus\": 0.0, \"% Compare\": 0.1837109614206981, \"Color compare\": \"Benchmark\"}, {\"Level\": \"Focus\", \"SL\": \"Psychiatry\", \"variable\": \"Palliative care\", \"value\": 0.0, \"% Focus\": 0.0, \"% Compare\": 0.1837109614206981, \"Color compare\": \"General Hospital below benchmark\"}]}}, {\"mode\": \"vega-lite\"});\n",
       "</script>"
      ],
      "text/plain": [
       "alt.FacetChart(...)"
      ]
     },
     "execution_count": 7,
     "metadata": {},
     "output_type": "execute_result"
    }
   ],
   "source": [
    "eolChart['SL'] = eolChart['SL'].str.title()\n",
    "slCapitalList = [sl.title() for sl in slList]\n",
    "eolChart['variable'] = eolChart['variable'].replace({'DNR %':'DNR','PC %': 'Palliative care'})\n",
    "\n",
    "bells = alt.Chart(eolChart).mark_circle(size=250,opacity=1,stroke='#696969',strokeWidth=.5).encode(\n",
    "        x=alt.X('value:Q',scale=alt.Scale(zero=False),axis=alt.Axis(grid=True,labelAngle=0,\n",
    "                    title='% Cases',domainWidth=1,tickMinStep=1)),\n",
    "        y=alt.Y('SL:N',sort=slCapitalList,title=None,axis=alt.Axis(domainWidth=0)), \n",
    "        color=alt.Color('Color compare',\n",
    "                        scale=alt.Scale(domain=['Benchmark', \n",
    "                                     f'{focusName} above benchmark', f'{focusName} below benchmark'], \n",
    "                        range=['#696969','#33a02c','#e31a1c'])))\n",
    "\n",
    "bar = alt.Chart(eolChart).mark_rule(color='#c0c0c0',size=3).encode(alt.X('% Focus:Q'),\n",
    "                        alt.X2('% Compare:Q'), y=alt.Y('SL:N',sort=slCapitalList)) \n",
    "\n",
    "alt.layer(bar+bells).properties(width=310,height=420\n",
    "                    ).facet(alt.Column('variable:N',title=None,sort=['DNR','Palliative care'])  \n",
    "                    ).resolve_scale(x='independent'\n",
    "                    ).properties(title=f'{focusName} - end of life care by service line'\n",
    "                    ).configure_header(labelFontStyle='bold',labelColor='#6e6e6e',labelFont='Arial',\n",
    "                                       labelFontSize=16,labelPadding=12\n",
    "                    ).configure_view(strokeWidth=0,fill='#f2f2f2'\n",
    "                    ).configure_axis(labelColor='#6e6e6e',labelFont='Arial',labelFontSize=14,\n",
    "                                     titleFont='Arial',titleFontSize=12,titleColor='#6e6e6e',\n",
    "                                     labelLimit=1000,tickSize=0\n",
    "                    ).configure_axisY(labelPadding=160,labelAlign='left'\n",
    "                    ).configure_legend(labelColor='#6e6e6e',labelFont='Arial',labelFontSize=14,\n",
    "                                     title=None,orient='none',labelLimit=250,direction='horizontal',\n",
    "                                     legendX=35,legendY=470\n",
    "                    ).configure_title(fontSize=20,color='#6e6e6e',font='Arial',anchor='start',\n",
    "                                      offset=25)"
   ]
  },
  {
   "cell_type": "raw",
   "metadata": {},
   "source": []
  }
 ],
 "metadata": {
  "kernelspec": {
   "display_name": "Python 3",
   "language": "python",
   "name": "python3"
  },
  "language_info": {
   "codemirror_mode": {
    "name": "ipython",
    "version": 3
   },
   "file_extension": ".py",
   "mimetype": "text/x-python",
   "name": "python",
   "nbconvert_exporter": "python",
   "pygments_lexer": "ipython3",
   "version": "3.7.0"
  }
 },
 "nbformat": 4,
 "nbformat_minor": 2
}
