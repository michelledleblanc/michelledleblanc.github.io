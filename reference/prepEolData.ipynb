{
 "cells": [
  {
   "cell_type": "code",
   "execution_count": 1,
   "metadata": {},
   "outputs": [],
   "source": [
    "import pandas as pd\n",
    "import numpy as np\n",
    "pd.options.mode.chained_assignment = None"
   ]
  },
  {
   "cell_type": "code",
   "execution_count": 2,
   "metadata": {},
   "outputs": [],
   "source": [
    "drg = pd.read_excel('msdrgToServiceLine.xlsx')\n",
    "drgMap = dict(zip(drg['MS-DRG #'],drg['MS-DRG Service Line Description']))"
   ]
  },
  {
   "cell_type": "code",
   "execution_count": 3,
   "metadata": {},
   "outputs": [],
   "source": [
    "df = pd.read_pickle('hcupData.pkl')\n",
    "cases = df[['HOSP_NIS','DRG']]\n",
    "cases['Cases'] = 1\n",
    "hospitals = cases.groupby(['HOSP_NIS','DRG']).sum().reset_index().sort_values('Cases',ascending=False)\n",
    "hospitals['SL'] = hospitals['DRG'].replace(drgMap)\n",
    "hospitals = hospitals.groupby(['HOSP_NIS','SL']).sum().reset_index()\n",
    "hospitals = hospitals[['HOSP_NIS','SL','Cases']]"
   ]
  },
  {
   "cell_type": "code",
   "execution_count": 4,
   "metadata": {},
   "outputs": [],
   "source": [
    "cols = [f'DX{i}' for i in range (1,26)]\n",
    "slDf = df[['HOSP_NIS','DRG']+cols]\n",
    "slDf.loc[slDf.isin(['V4986']).any(axis=1),'DNR'] = 1  #2012 ICD 9 code for DNR\n",
    "slDf.loc[slDf.isin(['V667']).any(axis=1),'PC'] = 1 #2012 ICD 9 code for palliative care"
   ]
  },
  {
   "cell_type": "code",
   "execution_count": 5,
   "metadata": {},
   "outputs": [],
   "source": [
    "slEol = slDf[['HOSP_NIS','DRG','DNR','PC']]\n",
    "slEol['SL'] = slEol['DRG'].replace(drgMap)\n",
    "slEol = slEol.groupby(['HOSP_NIS','SL']).sum().reset_index()"
   ]
  },
  {
   "cell_type": "code",
   "execution_count": 8,
   "metadata": {},
   "outputs": [],
   "source": [
    "eolDf = slEol.merge(hospitals,on=['HOSP_NIS','SL'])\n",
    "# eolDf['%DNR'] = eolDf['DNR']/eolDf['Cases']*100\n",
    "# eolDf['%PC'] = eolDf['PC']/eolDf['Cases']*100"
   ]
  },
  {
   "cell_type": "code",
   "execution_count": 11,
   "metadata": {},
   "outputs": [],
   "source": [
    "eolDf[['HOSP_NIS','SL','Cases','DNR','PC']].to_excel('eolData.xlsx', index=False)"
   ]
  },
  {
   "cell_type": "code",
   "execution_count": null,
   "metadata": {},
   "outputs": [],
   "source": []
  }
 ],
 "metadata": {
  "kernelspec": {
   "display_name": "Python 3",
   "language": "python",
   "name": "python3"
  },
  "language_info": {
   "codemirror_mode": {
    "name": "ipython",
    "version": 3
   },
   "file_extension": ".py",
   "mimetype": "text/x-python",
   "name": "python",
   "nbconvert_exporter": "python",
   "pygments_lexer": "ipython3",
   "version": "3.7.0"
  }
 },
 "nbformat": 4,
 "nbformat_minor": 2
}
