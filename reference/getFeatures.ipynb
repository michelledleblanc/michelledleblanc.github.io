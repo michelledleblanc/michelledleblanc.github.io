{
 "cells": [
  {
   "cell_type": "markdown",
   "metadata": {},
   "source": [
    "### Prepare data set for hospital benchmarking using data from the National Inpatient Sample (NIS), Healthcare Cost and Utilization Project (HCUP), Agency for Healthcare Research and Quality. This notebook is informational only, in accordance with HCUP's data use standards."
   ]
  },
  {
   "cell_type": "code",
   "execution_count": 1,
   "metadata": {},
   "outputs": [
    {
     "data": {
      "text/html": [
       "<style>.container { width:99% !important; }</style>"
      ],
      "text/plain": [
       "<IPython.core.display.HTML object>"
      ]
     },
     "metadata": {},
     "output_type": "display_data"
    }
   ],
   "source": [
    "from IPython.core.display import display, HTML; display(HTML(\"<style>.container { width:99% !important; }</style>\"))\n",
    "import pandas as pd\n",
    "import numpy as np\n",
    "pd.options.mode.chained_assignment = None"
   ]
  },
  {
   "cell_type": "code",
   "execution_count": 2,
   "metadata": {},
   "outputs": [],
   "source": [
    "df = pd.read_pickle('hcupData.pkl')"
   ]
  },
  {
   "cell_type": "code",
   "execution_count": 3,
   "metadata": {},
   "outputs": [],
   "source": [
    "cases = df[['HOSP_NIS']]\n",
    "cases['Cases'] = 1\n",
    "hospitals = cases.groupby('HOSP_NIS').sum().reset_index().sort_values('Cases',ascending=False)\n",
    "hospitals = hospitals.loc[hospitals['Cases']>100]\n",
    "caseCount = hospitals[['HOSP_NIS','Cases']]\n",
    "hospitalList = hospitals['HOSP_NIS'].tolist()"
   ]
  },
  {
   "cell_type": "code",
   "execution_count": 4,
   "metadata": {},
   "outputs": [],
   "source": [
    "hospitalDf = df.loc[df['HOSP_NIS'].isin(hospitalList)]\n",
    "hospitalDf = hospitalDf.sort_values('HOSP_NIS')"
   ]
  },
  {
   "cell_type": "code",
   "execution_count": 5,
   "metadata": {},
   "outputs": [],
   "source": [
    "transfers = pd.crosstab(hospitalDf['HOSP_NIS'],hospitalDf['TRAN_IN']).reset_index()[['HOSP_NIS',1]]\n",
    "transfers.columns = ['HOSP_NIS','TransfersIn']"
   ]
  },
  {
   "cell_type": "code",
   "execution_count": 6,
   "metadata": {},
   "outputs": [],
   "source": [
    "ed = pd.crosstab(hospitalDf['HOSP_NIS'],hospitalDf['HCUP_ED']).reset_index()[['HOSP_NIS',1,2,3,4]]\n",
    "ed['EmergencyAdmit'] = ed.iloc[:, 1:].sum(axis=1)\n",
    "ed = ed[['HOSP_NIS','EmergencyAdmit']]"
   ]
  },
  {
   "cell_type": "code",
   "execution_count": 7,
   "metadata": {},
   "outputs": [],
   "source": [
    "ageGroups = hospitalDf[['HOSP_NIS','AGE']]\n",
    "ageGroups['AgeBin'] = 0\n",
    "ageGroups.loc[ageGroups['AGE']<18,'AgeBin'] = 1\n",
    "ageGroups.loc[ageGroups['AGE']>74,'AgeBin'] = 2\n",
    "ageGroups = pd.crosstab(ageGroups['HOSP_NIS'],ageGroups['AgeBin']).reset_index()\n",
    "ageGroups['all'] = ageGroups.iloc[:, 1:].sum(axis=1)\n",
    "ageGroups['%<18'] = ageGroups[1]/ageGroups['all']*100\n",
    "ageGroups['%75+'] = ageGroups[2]/ageGroups['all']*100\n",
    "ageGroups = ageGroups[['HOSP_NIS','%<18','%75+']]"
   ]
  },
  {
   "cell_type": "code",
   "execution_count": 8,
   "metadata": {},
   "outputs": [],
   "source": [
    "nonWhite = pd.crosstab(hospitalDf['HOSP_NIS'],hospitalDf['RACE']).reset_index()\n",
    "nonWhite['%NonWhite'] = 100 - (nonWhite[1]/nonWhite.iloc[:, 1:].sum(axis=1) * 100)\n",
    "nonWhite = nonWhite[['HOSP_NIS','%NonWhite']]"
   ]
  },
  {
   "cell_type": "code",
   "execution_count": 9,
   "metadata": {},
   "outputs": [],
   "source": [
    "payer = pd.crosstab(hospitalDf['HOSP_NIS'],hospitalDf['PAY1']).reset_index()\n",
    "payer['%MedicaidUI'] = 100 - ((payer[1]+payer[3])/payer.iloc[:, 1:].sum(axis=1) * 100)\n",
    "payer = payer[['HOSP_NIS','%MedicaidUI']]"
   ]
  },
  {
   "cell_type": "code",
   "execution_count": 10,
   "metadata": {},
   "outputs": [],
   "source": [
    "surgeries = pd.crosstab(hospitalDf['HOSP_NIS'],hospitalDf['ORPROC']).reset_index()[['HOSP_NIS',1]]\n",
    "surgeries.columns = ['HOSP_NIS','SurgicalCases']"
   ]
  },
  {
   "cell_type": "code",
   "execution_count": 11,
   "metadata": {},
   "outputs": [],
   "source": [
    "avgCharge = hospitalDf[['HOSP_NIS','TOTCHG']].groupby('HOSP_NIS').mean().reset_index()\n",
    "avgCharge.columns = ['HOSP_NIS','AvgCharge']"
   ]
  },
  {
   "cell_type": "code",
   "execution_count": 12,
   "metadata": {},
   "outputs": [],
   "source": [
    "transOut = pd.crosstab(hospitalDf['HOSP_NIS'],hospitalDf['TRAN_OUT']).reset_index()\n",
    "transOut['all'] = transOut.iloc[:, 1:].sum(axis=1)\n",
    "died = hospitalDf[['HOSP_NIS','DIED']].groupby('HOSP_NIS').sum().reset_index()\n",
    "routineDischarge = transOut[['HOSP_NIS',0,'all']].merge(died)\n",
    "routineDischarge['%RoutineDischarge'] = ((routineDischarge[0] - routineDischarge['DIED']) /routineDischarge['all']) * 100\n",
    "routineDischarge = routineDischarge[['HOSP_NIS','%RoutineDischarge']]"
   ]
  },
  {
   "cell_type": "code",
   "execution_count": 13,
   "metadata": {},
   "outputs": [],
   "source": [
    "sevDf = pd.read_pickle('hcupSeverity.pkl')\n",
    "hospitalSev = sevDf.loc[sevDf['HOSP_NIS'].isin(hospitalList)]\n",
    "hospitalSev = hospitalSev.sort_values('HOSP_NIS')"
   ]
  },
  {
   "cell_type": "code",
   "execution_count": 14,
   "metadata": {},
   "outputs": [],
   "source": [
    "comorbidities = hospitalSev[['HOSP_NIS','CM_AIDS', 'CM_ALCOHOL', 'CM_ANEMDEF', 'CM_ARTH', 'CM_BLDLOSS', 'CM_CHF', 'CM_CHRNLUNG', 'CM_COAG', 'CM_DEPRESS', 'CM_DM', 'CM_DMCX', 'CM_DRUG', 'CM_HTN_C', \n",
    "        'CM_HYPOTHY', 'CM_LIVER','CM_LYMPH', 'CM_LYTES', 'CM_METS', 'CM_NEURO', 'CM_OBESE', 'CM_PARA', 'CM_PERIVASC', 'CM_PSYCH', 'CM_PULMCIRC', 'CM_RENLFAIL', 'CM_TUMOR', 'CM_ULCER', 'CM_VALVE', 'CM_WGHTLOSS']]\n",
    "comorbidities['AvgComorbidities'] = comorbidities.iloc[:, 1:].sum(axis=1)\n",
    "comorbidities = comorbidities[['HOSP_NIS','AvgComorbidities']].groupby('HOSP_NIS').mean().reset_index()"
   ]
  },
  {
   "cell_type": "code",
   "execution_count": 15,
   "metadata": {},
   "outputs": [
    {
     "data": {
      "text/plain": [
       "True"
      ]
     },
     "execution_count": 15,
     "metadata": {},
     "output_type": "execute_result"
    }
   ],
   "source": [
    "coreDf = caseCount.merge(transfers).merge(ed).merge(ageGroups).merge(nonWhite).merge(payer).merge(surgeries).merge(avgCharge).merge(routineDischarge).merge(comorbidities)\n",
    "coreDf.shape[0]==len(hospitalList)"
   ]
  },
  {
   "cell_type": "code",
   "execution_count": 16,
   "metadata": {},
   "outputs": [],
   "source": [
    "region = hospitalDf[['HOSP_NIS','HOSP_DIVISION']].drop_duplicates()\n",
    "region['Region'] = region['HOSP_DIVISION'].replace({1:'NewEngland', 2:'MiddleAtlantic', 3:'EastNorthCentral', 4:'WestNorthCentral', 5:'SouthAtlantic', 6:'EastSouthCentral', \n",
    "                                 7:'WestSouthCentral', 8:'Mountain', 9:'Pacific'})\n",
    "region = region[['HOSP_NIS','Region']]"
   ]
  },
  {
   "cell_type": "code",
   "execution_count": 17,
   "metadata": {},
   "outputs": [],
   "source": [
    "area = hospitalDf[['HOSP_NIS','PL_NCHS2006']].groupby(['HOSP_NIS', 'PL_NCHS2006']).size().to_frame().reset_index().sort_values(['HOSP_NIS', 0],ascending=False).groupby('HOSP_NIS').first().reset_index()\n",
    "area = area[['HOSP_NIS','PL_NCHS2006']]\n",
    "area.columns = ['HOSP_NIS','Area']\n",
    "area['Area'] = area['Area'].replace({1:'BigMetro', 2 :'ExburbBigMetro', 3: 'MediumMetro', 4:'SmallMetro', 5:'Micro', 6:'Rural', -99:'Unknown'})"
   ]
  },
  {
   "cell_type": "code",
   "execution_count": 18,
   "metadata": {},
   "outputs": [],
   "source": [
    "categorical = pd.get_dummies(region.merge(area))"
   ]
  },
  {
   "cell_type": "code",
   "execution_count": 19,
   "metadata": {},
   "outputs": [
    {
     "data": {
      "text/plain": [
       "True"
      ]
     },
     "execution_count": 19,
     "metadata": {},
     "output_type": "execute_result"
    }
   ],
   "source": [
    "categorical.shape[0] == len(hospitalList)"
   ]
  },
  {
   "cell_type": "code",
   "execution_count": 20,
   "metadata": {},
   "outputs": [],
   "source": [
    "coreDf.to_excel('continuousFeatures.xlsx', index=False)\n",
    "categorical.to_excel('categorical.xlsx', index=False)"
   ]
  },
  {
   "cell_type": "code",
   "execution_count": 21,
   "metadata": {},
   "outputs": [
    {
     "data": {
      "text/html": [
       "<div>\n",
       "<style scoped>\n",
       "    .dataframe tbody tr th:only-of-type {\n",
       "        vertical-align: middle;\n",
       "    }\n",
       "\n",
       "    .dataframe tbody tr th {\n",
       "        vertical-align: top;\n",
       "    }\n",
       "\n",
       "    .dataframe thead th {\n",
       "        text-align: right;\n",
       "    }\n",
       "</style>\n",
       "<table border=\"1\" class=\"dataframe\">\n",
       "  <thead>\n",
       "    <tr style=\"text-align: right;\">\n",
       "      <th></th>\n",
       "      <th>HOSP_NIS</th>\n",
       "      <th>Cases</th>\n",
       "      <th>TransfersIn</th>\n",
       "      <th>EmergencyAdmit</th>\n",
       "      <th>%&lt;18</th>\n",
       "      <th>%75+</th>\n",
       "      <th>%NonWhite</th>\n",
       "      <th>%MedicaidUI</th>\n",
       "      <th>SurgicalCases</th>\n",
       "      <th>AvgCharge</th>\n",
       "      <th>%RoutineDischarge</th>\n",
       "      <th>AvgComorbidities</th>\n",
       "    </tr>\n",
       "  </thead>\n",
       "  <tbody>\n",
       "    <tr>\n",
       "      <th>0</th>\n",
       "      <td>60387</td>\n",
       "      <td>27912</td>\n",
       "      <td>5380</td>\n",
       "      <td>19647</td>\n",
       "      <td>11.439524</td>\n",
       "      <td>22.269991</td>\n",
       "      <td>28.536113</td>\n",
       "      <td>27.099455</td>\n",
       "      <td>7908</td>\n",
       "      <td>21383.204428</td>\n",
       "      <td>81.011751</td>\n",
       "      <td>2.698302</td>\n",
       "    </tr>\n",
       "    <tr>\n",
       "      <th>1</th>\n",
       "      <td>60410</td>\n",
       "      <td>26074</td>\n",
       "      <td>4556</td>\n",
       "      <td>12623</td>\n",
       "      <td>25.017259</td>\n",
       "      <td>8.000307</td>\n",
       "      <td>16.967094</td>\n",
       "      <td>43.518447</td>\n",
       "      <td>9380</td>\n",
       "      <td>48483.244880</td>\n",
       "      <td>86.695559</td>\n",
       "      <td>1.868413</td>\n",
       "    </tr>\n",
       "    <tr>\n",
       "      <th>2</th>\n",
       "      <td>60198</td>\n",
       "      <td>20807</td>\n",
       "      <td>3548</td>\n",
       "      <td>8533</td>\n",
       "      <td>26.885183</td>\n",
       "      <td>7.819484</td>\n",
       "      <td>25.332821</td>\n",
       "      <td>37.434517</td>\n",
       "      <td>7849</td>\n",
       "      <td>23172.307252</td>\n",
       "      <td>89.705388</td>\n",
       "      <td>1.621185</td>\n",
       "    </tr>\n",
       "    <tr>\n",
       "      <th>3</th>\n",
       "      <td>10116</td>\n",
       "      <td>14222</td>\n",
       "      <td>1268</td>\n",
       "      <td>8996</td>\n",
       "      <td>13.908030</td>\n",
       "      <td>22.725355</td>\n",
       "      <td>31.162987</td>\n",
       "      <td>27.710589</td>\n",
       "      <td>4506</td>\n",
       "      <td>35869.701519</td>\n",
       "      <td>78.659823</td>\n",
       "      <td>2.202011</td>\n",
       "    </tr>\n",
       "    <tr>\n",
       "      <th>4</th>\n",
       "      <td>10076</td>\n",
       "      <td>13929</td>\n",
       "      <td>560</td>\n",
       "      <td>7062</td>\n",
       "      <td>21.810611</td>\n",
       "      <td>15.715414</td>\n",
       "      <td>35.350707</td>\n",
       "      <td>31.481083</td>\n",
       "      <td>4496</td>\n",
       "      <td>57602.102448</td>\n",
       "      <td>83.918444</td>\n",
       "      <td>1.855912</td>\n",
       "    </tr>\n",
       "  </tbody>\n",
       "</table>\n",
       "</div>"
      ],
      "text/plain": [
       "   HOSP_NIS  Cases  TransfersIn  EmergencyAdmit       %<18       %75+  \\\n",
       "0     60387  27912         5380           19647  11.439524  22.269991   \n",
       "1     60410  26074         4556           12623  25.017259   8.000307   \n",
       "2     60198  20807         3548            8533  26.885183   7.819484   \n",
       "3     10116  14222         1268            8996  13.908030  22.725355   \n",
       "4     10076  13929          560            7062  21.810611  15.715414   \n",
       "\n",
       "   %NonWhite  %MedicaidUI  SurgicalCases     AvgCharge  %RoutineDischarge  \\\n",
       "0  28.536113    27.099455           7908  21383.204428          81.011751   \n",
       "1  16.967094    43.518447           9380  48483.244880          86.695559   \n",
       "2  25.332821    37.434517           7849  23172.307252          89.705388   \n",
       "3  31.162987    27.710589           4506  35869.701519          78.659823   \n",
       "4  35.350707    31.481083           4496  57602.102448          83.918444   \n",
       "\n",
       "   AvgComorbidities  \n",
       "0          2.698302  \n",
       "1          1.868413  \n",
       "2          1.621185  \n",
       "3          2.202011  \n",
       "4          1.855912  "
      ]
     },
     "execution_count": 21,
     "metadata": {},
     "output_type": "execute_result"
    }
   ],
   "source": [
    "coreDf.head()"
   ]
  },
  {
   "cell_type": "code",
   "execution_count": 22,
   "metadata": {},
   "outputs": [
    {
     "data": {
      "text/html": [
       "<div>\n",
       "<style scoped>\n",
       "    .dataframe tbody tr th:only-of-type {\n",
       "        vertical-align: middle;\n",
       "    }\n",
       "\n",
       "    .dataframe tbody tr th {\n",
       "        vertical-align: top;\n",
       "    }\n",
       "\n",
       "    .dataframe thead th {\n",
       "        text-align: right;\n",
       "    }\n",
       "</style>\n",
       "<table border=\"1\" class=\"dataframe\">\n",
       "  <thead>\n",
       "    <tr style=\"text-align: right;\">\n",
       "      <th></th>\n",
       "      <th>HOSP_NIS</th>\n",
       "      <th>Region_EastNorthCentral</th>\n",
       "      <th>Region_EastSouthCentral</th>\n",
       "      <th>Region_MiddleAtlantic</th>\n",
       "      <th>Region_Mountain</th>\n",
       "      <th>Region_NewEngland</th>\n",
       "      <th>Region_Pacific</th>\n",
       "      <th>Region_SouthAtlantic</th>\n",
       "      <th>Region_WestNorthCentral</th>\n",
       "      <th>Region_WestSouthCentral</th>\n",
       "      <th>Area_BigMetro</th>\n",
       "      <th>Area_ExburbBigMetro</th>\n",
       "      <th>Area_MediumMetro</th>\n",
       "      <th>Area_Micro</th>\n",
       "      <th>Area_Rural</th>\n",
       "      <th>Area_SmallMetro</th>\n",
       "      <th>Area_Unknown</th>\n",
       "    </tr>\n",
       "  </thead>\n",
       "  <tbody>\n",
       "    <tr>\n",
       "      <th>0</th>\n",
       "      <td>10002</td>\n",
       "      <td>0</td>\n",
       "      <td>0</td>\n",
       "      <td>0</td>\n",
       "      <td>0</td>\n",
       "      <td>1</td>\n",
       "      <td>0</td>\n",
       "      <td>0</td>\n",
       "      <td>0</td>\n",
       "      <td>0</td>\n",
       "      <td>0</td>\n",
       "      <td>1</td>\n",
       "      <td>0</td>\n",
       "      <td>0</td>\n",
       "      <td>0</td>\n",
       "      <td>0</td>\n",
       "      <td>0</td>\n",
       "    </tr>\n",
       "    <tr>\n",
       "      <th>1</th>\n",
       "      <td>10004</td>\n",
       "      <td>0</td>\n",
       "      <td>0</td>\n",
       "      <td>0</td>\n",
       "      <td>0</td>\n",
       "      <td>1</td>\n",
       "      <td>0</td>\n",
       "      <td>0</td>\n",
       "      <td>0</td>\n",
       "      <td>0</td>\n",
       "      <td>0</td>\n",
       "      <td>1</td>\n",
       "      <td>0</td>\n",
       "      <td>0</td>\n",
       "      <td>0</td>\n",
       "      <td>0</td>\n",
       "      <td>0</td>\n",
       "    </tr>\n",
       "    <tr>\n",
       "      <th>2</th>\n",
       "      <td>10007</td>\n",
       "      <td>0</td>\n",
       "      <td>0</td>\n",
       "      <td>0</td>\n",
       "      <td>0</td>\n",
       "      <td>1</td>\n",
       "      <td>0</td>\n",
       "      <td>0</td>\n",
       "      <td>0</td>\n",
       "      <td>0</td>\n",
       "      <td>0</td>\n",
       "      <td>0</td>\n",
       "      <td>0</td>\n",
       "      <td>1</td>\n",
       "      <td>0</td>\n",
       "      <td>0</td>\n",
       "      <td>0</td>\n",
       "    </tr>\n",
       "    <tr>\n",
       "      <th>3</th>\n",
       "      <td>10008</td>\n",
       "      <td>0</td>\n",
       "      <td>0</td>\n",
       "      <td>0</td>\n",
       "      <td>0</td>\n",
       "      <td>1</td>\n",
       "      <td>0</td>\n",
       "      <td>0</td>\n",
       "      <td>0</td>\n",
       "      <td>0</td>\n",
       "      <td>0</td>\n",
       "      <td>1</td>\n",
       "      <td>0</td>\n",
       "      <td>0</td>\n",
       "      <td>0</td>\n",
       "      <td>0</td>\n",
       "      <td>0</td>\n",
       "    </tr>\n",
       "    <tr>\n",
       "      <th>4</th>\n",
       "      <td>10009</td>\n",
       "      <td>0</td>\n",
       "      <td>0</td>\n",
       "      <td>0</td>\n",
       "      <td>0</td>\n",
       "      <td>1</td>\n",
       "      <td>0</td>\n",
       "      <td>0</td>\n",
       "      <td>0</td>\n",
       "      <td>0</td>\n",
       "      <td>0</td>\n",
       "      <td>1</td>\n",
       "      <td>0</td>\n",
       "      <td>0</td>\n",
       "      <td>0</td>\n",
       "      <td>0</td>\n",
       "      <td>0</td>\n",
       "    </tr>\n",
       "  </tbody>\n",
       "</table>\n",
       "</div>"
      ],
      "text/plain": [
       "   HOSP_NIS  Region_EastNorthCentral  Region_EastSouthCentral  \\\n",
       "0     10002                        0                        0   \n",
       "1     10004                        0                        0   \n",
       "2     10007                        0                        0   \n",
       "3     10008                        0                        0   \n",
       "4     10009                        0                        0   \n",
       "\n",
       "   Region_MiddleAtlantic  Region_Mountain  Region_NewEngland  Region_Pacific  \\\n",
       "0                      0                0                  1               0   \n",
       "1                      0                0                  1               0   \n",
       "2                      0                0                  1               0   \n",
       "3                      0                0                  1               0   \n",
       "4                      0                0                  1               0   \n",
       "\n",
       "   Region_SouthAtlantic  Region_WestNorthCentral  Region_WestSouthCentral  \\\n",
       "0                     0                        0                        0   \n",
       "1                     0                        0                        0   \n",
       "2                     0                        0                        0   \n",
       "3                     0                        0                        0   \n",
       "4                     0                        0                        0   \n",
       "\n",
       "   Area_BigMetro  Area_ExburbBigMetro  Area_MediumMetro  Area_Micro  \\\n",
       "0              0                    1                 0           0   \n",
       "1              0                    1                 0           0   \n",
       "2              0                    0                 0           1   \n",
       "3              0                    1                 0           0   \n",
       "4              0                    1                 0           0   \n",
       "\n",
       "   Area_Rural  Area_SmallMetro  Area_Unknown  \n",
       "0           0                0             0  \n",
       "1           0                0             0  \n",
       "2           0                0             0  \n",
       "3           0                0             0  \n",
       "4           0                0             0  "
      ]
     },
     "execution_count": 22,
     "metadata": {},
     "output_type": "execute_result"
    }
   ],
   "source": [
    "categorical.head()"
   ]
  },
  {
   "cell_type": "code",
   "execution_count": null,
   "metadata": {},
   "outputs": [],
   "source": []
  }
 ],
 "metadata": {
  "kernelspec": {
   "display_name": "Python 3",
   "language": "python",
   "name": "python3"
  },
  "language_info": {
   "codemirror_mode": {
    "name": "ipython",
    "version": 3
   },
   "file_extension": ".py",
   "mimetype": "text/x-python",
   "name": "python",
   "nbconvert_exporter": "python",
   "pygments_lexer": "ipython3",
   "version": "3.7.0"
  }
 },
 "nbformat": 4,
 "nbformat_minor": 2
}
